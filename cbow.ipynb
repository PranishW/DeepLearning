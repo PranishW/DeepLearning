{
 "cells": [
  {
   "cell_type": "code",
   "execution_count": 1,
   "metadata": {},
   "outputs": [
    {
     "name": "stdout",
     "output_type": "stream",
     "text": [
      "WARNING:tensorflow:From c:\\Python310\\lib\\site-packages\\keras\\src\\losses.py:2976: The name tf.losses.sparse_softmax_cross_entropy is deprecated. Please use tf.compat.v1.losses.sparse_softmax_cross_entropy instead.\n",
      "\n"
     ]
    }
   ],
   "source": [
    "import numpy as np\n",
    "import pandas as pd\n",
    "import keras.backend as K\n",
    "from tensorflow.keras.preprocessing import text\n",
    "from tensorflow.keras.models import Sequential\n",
    "from tensorflow.keras.layers import Lambda,Dense,Embedding\n",
    "from sklearn.metrics.pairwise import euclidean_distances"
   ]
  },
  {
   "cell_type": "code",
   "execution_count": 2,
   "metadata": {},
   "outputs": [],
   "source": [
    "data = \"\"\"The speed of transmission is an important point of difference between the two viruses. \n",
    "Influenza has a shorter median incubation period (the time from infection to appearance of symptoms) and a shorter serial interval \n",
    "(the time between successive cases) than COVID-19 virus. The serial interval for COVID-19 virus is estimated to be 5-6 days, while for influenza virus, \n",
    "the serial interval is 3 days. This means that influenza can spread faster than COVID-19. Further, transmission in the first 3-5 days of illness, \n",
    "or potentially pre-symptomatic transmission –transmission of the virus before the appearance of symptoms – is a major driver of transmission for influenza.\n",
    "In contrast, while we are learning that there are people who can shed COVID-19 virus 24-48 hours prior to symptom onset, at present, \n",
    "this does not appear to be a major driver of transmission. The reproductive number – the number of secondary infections generated from one infected \n",
    "individual – is understood to be between 2 and 2.5 for COVID-19 virus, higher than for influenza. However, estimates for both COVID-19 and influenza \n",
    "viruses are very context and time-specific, making direct comparisons more difficult.\"\"\"\n",
    "dl_data = data.split()"
   ]
  },
  {
   "cell_type": "code",
   "execution_count": 10,
   "metadata": {},
   "outputs": [],
   "source": [
    "tokenizer = text.Tokenizer()\n",
    "tokenizer.fit_on_texts(dl_data)\n",
    "word2id = tokenizer.word_index\n",
    "word2id['PAD'] = 0\n",
    "id2word = {v:k for k,v in word2id.items()}"
   ]
  },
  {
   "cell_type": "code",
   "execution_count": 11,
   "metadata": {},
   "outputs": [
    {
     "name": "stdout",
     "output_type": "stream",
     "text": [
      "103\n",
      "[('the', 1), ('of', 2), ('influenza', 3), ('covid', 4), ('19', 5), ('virus', 6), ('for', 7), ('transmission', 8), ('is', 9), ('to', 10)]\n"
     ]
    }
   ],
   "source": [
    "vocab_size = len(word2id)\n",
    "embed_size = 100\n",
    "window_size = 2\n",
    "\n",
    "print(vocab_size)\n",
    "print(list(word2id.items())[:10])"
   ]
  },
  {
   "cell_type": "code",
   "execution_count": 12,
   "metadata": {},
   "outputs": [
    {
     "name": "stdout",
     "output_type": "stream",
     "text": [
      "Model: \"sequential_1\"\n",
      "_________________________________________________________________\n",
      " Layer (type)                Output Shape              Param #   \n",
      "=================================================================\n",
      " embedding_1 (Embedding)     (None, 4, 100)            10300     \n",
      "                                                                 \n",
      " lambda_1 (Lambda)           (None, 100)               0         \n",
      "                                                                 \n",
      " dense_1 (Dense)             (None, 103)               10403     \n",
      "                                                                 \n",
      "=================================================================\n",
      "Total params: 20703 (80.87 KB)\n",
      "Trainable params: 20703 (80.87 KB)\n",
      "Non-trainable params: 0 (0.00 Byte)\n",
      "_________________________________________________________________\n"
     ]
    }
   ],
   "source": [
    "cbow = Sequential()\n",
    "cbow.add(Embedding(input_dim=vocab_size,output_dim=embed_size,input_length=window_size*2))\n",
    "cbow.add(Lambda(lambda x:K.mean(x,axis=1),output_shape=(embed_size,)))\n",
    "cbow.add(Dense(vocab_size,activation='softmax'))\n",
    "cbow.compile(loss='categorical_crossentropy',optimizer='rmsprop')\n",
    "cbow.summary()"
   ]
  },
  {
   "cell_type": "code",
   "execution_count": 13,
   "metadata": {},
   "outputs": [
    {
     "name": "stdout",
     "output_type": "stream",
     "text": [
      "(102, 100)\n"
     ]
    },
    {
     "data": {
      "text/html": [
       "<div>\n",
       "<style scoped>\n",
       "    .dataframe tbody tr th:only-of-type {\n",
       "        vertical-align: middle;\n",
       "    }\n",
       "\n",
       "    .dataframe tbody tr th {\n",
       "        vertical-align: top;\n",
       "    }\n",
       "\n",
       "    .dataframe thead th {\n",
       "        text-align: right;\n",
       "    }\n",
       "</style>\n",
       "<table border=\"1\" class=\"dataframe\">\n",
       "  <thead>\n",
       "    <tr style=\"text-align: right;\">\n",
       "      <th></th>\n",
       "      <th>0</th>\n",
       "      <th>1</th>\n",
       "      <th>2</th>\n",
       "      <th>3</th>\n",
       "      <th>4</th>\n",
       "      <th>5</th>\n",
       "      <th>6</th>\n",
       "      <th>7</th>\n",
       "      <th>8</th>\n",
       "      <th>9</th>\n",
       "      <th>...</th>\n",
       "      <th>90</th>\n",
       "      <th>91</th>\n",
       "      <th>92</th>\n",
       "      <th>93</th>\n",
       "      <th>94</th>\n",
       "      <th>95</th>\n",
       "      <th>96</th>\n",
       "      <th>97</th>\n",
       "      <th>98</th>\n",
       "      <th>99</th>\n",
       "    </tr>\n",
       "  </thead>\n",
       "  <tbody>\n",
       "    <tr>\n",
       "      <th>(of, 2)</th>\n",
       "      <td>-0.027155</td>\n",
       "      <td>0.016629</td>\n",
       "      <td>0.030162</td>\n",
       "      <td>-0.045222</td>\n",
       "      <td>-0.014636</td>\n",
       "      <td>0.021419</td>\n",
       "      <td>-0.040152</td>\n",
       "      <td>0.017723</td>\n",
       "      <td>-0.039187</td>\n",
       "      <td>0.010690</td>\n",
       "      <td>...</td>\n",
       "      <td>-0.020054</td>\n",
       "      <td>-0.031770</td>\n",
       "      <td>-0.024963</td>\n",
       "      <td>-0.000068</td>\n",
       "      <td>-0.017733</td>\n",
       "      <td>0.048797</td>\n",
       "      <td>0.018793</td>\n",
       "      <td>-0.041782</td>\n",
       "      <td>0.029082</td>\n",
       "      <td>0.029078</td>\n",
       "    </tr>\n",
       "    <tr>\n",
       "      <th>(influenza, 3)</th>\n",
       "      <td>0.013942</td>\n",
       "      <td>0.022082</td>\n",
       "      <td>-0.031841</td>\n",
       "      <td>-0.033755</td>\n",
       "      <td>0.034786</td>\n",
       "      <td>-0.019104</td>\n",
       "      <td>0.031000</td>\n",
       "      <td>0.042883</td>\n",
       "      <td>0.037580</td>\n",
       "      <td>-0.005664</td>\n",
       "      <td>...</td>\n",
       "      <td>0.041989</td>\n",
       "      <td>0.020625</td>\n",
       "      <td>0.001743</td>\n",
       "      <td>-0.030841</td>\n",
       "      <td>0.017980</td>\n",
       "      <td>-0.032029</td>\n",
       "      <td>0.000028</td>\n",
       "      <td>0.036878</td>\n",
       "      <td>0.045074</td>\n",
       "      <td>0.029346</td>\n",
       "    </tr>\n",
       "    <tr>\n",
       "      <th>(covid, 4)</th>\n",
       "      <td>-0.003934</td>\n",
       "      <td>-0.030969</td>\n",
       "      <td>-0.032125</td>\n",
       "      <td>-0.003037</td>\n",
       "      <td>-0.020480</td>\n",
       "      <td>-0.018783</td>\n",
       "      <td>0.027192</td>\n",
       "      <td>-0.014669</td>\n",
       "      <td>-0.002525</td>\n",
       "      <td>-0.009622</td>\n",
       "      <td>...</td>\n",
       "      <td>-0.021390</td>\n",
       "      <td>-0.035189</td>\n",
       "      <td>-0.007020</td>\n",
       "      <td>0.019265</td>\n",
       "      <td>0.034532</td>\n",
       "      <td>-0.036243</td>\n",
       "      <td>-0.017553</td>\n",
       "      <td>0.025444</td>\n",
       "      <td>-0.043445</td>\n",
       "      <td>-0.021466</td>\n",
       "    </tr>\n",
       "    <tr>\n",
       "      <th>(19, 5)</th>\n",
       "      <td>-0.033971</td>\n",
       "      <td>-0.022676</td>\n",
       "      <td>-0.047201</td>\n",
       "      <td>0.014664</td>\n",
       "      <td>-0.042441</td>\n",
       "      <td>0.044232</td>\n",
       "      <td>-0.014768</td>\n",
       "      <td>0.009756</td>\n",
       "      <td>-0.023725</td>\n",
       "      <td>0.022874</td>\n",
       "      <td>...</td>\n",
       "      <td>-0.000740</td>\n",
       "      <td>0.005064</td>\n",
       "      <td>-0.039613</td>\n",
       "      <td>-0.013329</td>\n",
       "      <td>0.047222</td>\n",
       "      <td>0.002465</td>\n",
       "      <td>-0.031346</td>\n",
       "      <td>-0.031687</td>\n",
       "      <td>-0.013415</td>\n",
       "      <td>-0.025209</td>\n",
       "    </tr>\n",
       "    <tr>\n",
       "      <th>(virus, 6)</th>\n",
       "      <td>0.005643</td>\n",
       "      <td>-0.041921</td>\n",
       "      <td>-0.025259</td>\n",
       "      <td>-0.031735</td>\n",
       "      <td>0.032451</td>\n",
       "      <td>-0.000526</td>\n",
       "      <td>-0.030992</td>\n",
       "      <td>-0.009853</td>\n",
       "      <td>-0.026423</td>\n",
       "      <td>0.006004</td>\n",
       "      <td>...</td>\n",
       "      <td>0.028220</td>\n",
       "      <td>0.045575</td>\n",
       "      <td>0.035756</td>\n",
       "      <td>-0.021867</td>\n",
       "      <td>0.008646</td>\n",
       "      <td>0.006979</td>\n",
       "      <td>0.044811</td>\n",
       "      <td>0.027222</td>\n",
       "      <td>0.005807</td>\n",
       "      <td>0.038241</td>\n",
       "    </tr>\n",
       "  </tbody>\n",
       "</table>\n",
       "<p>5 rows × 100 columns</p>\n",
       "</div>"
      ],
      "text/plain": [
       "                      0         1         2         3         4         5   \\\n",
       "(of, 2)        -0.027155  0.016629  0.030162 -0.045222 -0.014636  0.021419   \n",
       "(influenza, 3)  0.013942  0.022082 -0.031841 -0.033755  0.034786 -0.019104   \n",
       "(covid, 4)     -0.003934 -0.030969 -0.032125 -0.003037 -0.020480 -0.018783   \n",
       "(19, 5)        -0.033971 -0.022676 -0.047201  0.014664 -0.042441  0.044232   \n",
       "(virus, 6)      0.005643 -0.041921 -0.025259 -0.031735  0.032451 -0.000526   \n",
       "\n",
       "                      6         7         8         9   ...        90  \\\n",
       "(of, 2)        -0.040152  0.017723 -0.039187  0.010690  ... -0.020054   \n",
       "(influenza, 3)  0.031000  0.042883  0.037580 -0.005664  ...  0.041989   \n",
       "(covid, 4)      0.027192 -0.014669 -0.002525 -0.009622  ... -0.021390   \n",
       "(19, 5)        -0.014768  0.009756 -0.023725  0.022874  ... -0.000740   \n",
       "(virus, 6)     -0.030992 -0.009853 -0.026423  0.006004  ...  0.028220   \n",
       "\n",
       "                      91        92        93        94        95        96  \\\n",
       "(of, 2)        -0.031770 -0.024963 -0.000068 -0.017733  0.048797  0.018793   \n",
       "(influenza, 3)  0.020625  0.001743 -0.030841  0.017980 -0.032029  0.000028   \n",
       "(covid, 4)     -0.035189 -0.007020  0.019265  0.034532 -0.036243 -0.017553   \n",
       "(19, 5)         0.005064 -0.039613 -0.013329  0.047222  0.002465 -0.031346   \n",
       "(virus, 6)      0.045575  0.035756 -0.021867  0.008646  0.006979  0.044811   \n",
       "\n",
       "                      97        98        99  \n",
       "(of, 2)        -0.041782  0.029082  0.029078  \n",
       "(influenza, 3)  0.036878  0.045074  0.029346  \n",
       "(covid, 4)      0.025444 -0.043445 -0.021466  \n",
       "(19, 5)        -0.031687 -0.013415 -0.025209  \n",
       "(virus, 6)      0.027222  0.005807  0.038241  \n",
       "\n",
       "[5 rows x 100 columns]"
      ]
     },
     "execution_count": 13,
     "metadata": {},
     "output_type": "execute_result"
    }
   ],
   "source": [
    "weights = cbow.get_weights()[0]\n",
    "weights = weights[1:]\n",
    "print(weights.shape)\n",
    "\n",
    "pd.DataFrame(weights,index=list(word2id.items())[1:]).head()"
   ]
  },
  {
   "cell_type": "code",
   "execution_count": 16,
   "metadata": {},
   "outputs": [
    {
     "name": "stdout",
     "output_type": "stream",
     "text": [
      "(102, 102)\n"
     ]
    },
    {
     "data": {
      "text/plain": [
       "{'influenza': ['there', 'however', 'learning', 'difference', 'appearance']}"
      ]
     },
     "execution_count": 16,
     "metadata": {},
     "output_type": "execute_result"
    }
   ],
   "source": [
    "distance_matrix = euclidean_distances(weights)\n",
    "print(distance_matrix.shape)\n",
    "\n",
    "similar_words = {search_term : [id2word[idx] for idx in distance_matrix[word2id[search_term]-1].argsort()[1:6]+1]\n",
    "                    for search_term in ['influenza']}\n",
    "similar_words"
   ]
  }
 ],
 "metadata": {
  "kernelspec": {
   "display_name": "Python 3",
   "language": "python",
   "name": "python3"
  },
  "language_info": {
   "codemirror_mode": {
    "name": "ipython",
    "version": 3
   },
   "file_extension": ".py",
   "mimetype": "text/x-python",
   "name": "python",
   "nbconvert_exporter": "python",
   "pygments_lexer": "ipython3",
   "version": "3.10.5"
  }
 },
 "nbformat": 4,
 "nbformat_minor": 2
}
