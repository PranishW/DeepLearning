{
 "cells": [
  {
   "cell_type": "code",
   "execution_count": 1,
   "metadata": {},
   "outputs": [
    {
     "name": "stdout",
     "output_type": "stream",
     "text": [
      "WARNING:tensorflow:From c:\\Python310\\lib\\site-packages\\keras\\src\\losses.py:2976: The name tf.losses.sparse_softmax_cross_entropy is deprecated. Please use tf.compat.v1.losses.sparse_softmax_cross_entropy instead.\n",
      "\n"
     ]
    }
   ],
   "source": [
    "import numpy as np\n",
    "import pandas as pd\n",
    "import matplotlib.pyplot as plt\n",
    "import tensorflow as tf\n",
    "from sklearn.preprocessing import MinMaxScaler\n",
    "from sklearn.metrics import accuracy_score\n",
    "from sklearn.model_selection import train_test_split\n",
    "from tensorflow.keras.models import Sequential\n",
    "from tensorflow.keras.layers import Dense,Dropout"
   ]
  },
  {
   "cell_type": "code",
   "execution_count": 2,
   "metadata": {},
   "outputs": [
    {
     "data": {
      "text/html": [
       "<div>\n",
       "<style scoped>\n",
       "    .dataframe tbody tr th:only-of-type {\n",
       "        vertical-align: middle;\n",
       "    }\n",
       "\n",
       "    .dataframe tbody tr th {\n",
       "        vertical-align: top;\n",
       "    }\n",
       "\n",
       "    .dataframe thead th {\n",
       "        text-align: right;\n",
       "    }\n",
       "</style>\n",
       "<table border=\"1\" class=\"dataframe\">\n",
       "  <thead>\n",
       "    <tr style=\"text-align: right;\">\n",
       "      <th></th>\n",
       "      <th>0</th>\n",
       "      <th>1</th>\n",
       "      <th>2</th>\n",
       "      <th>3</th>\n",
       "      <th>4</th>\n",
       "      <th>5</th>\n",
       "      <th>6</th>\n",
       "      <th>7</th>\n",
       "      <th>8</th>\n",
       "      <th>9</th>\n",
       "      <th>...</th>\n",
       "      <th>131</th>\n",
       "      <th>132</th>\n",
       "      <th>133</th>\n",
       "      <th>134</th>\n",
       "      <th>135</th>\n",
       "      <th>136</th>\n",
       "      <th>137</th>\n",
       "      <th>138</th>\n",
       "      <th>139</th>\n",
       "      <th>140</th>\n",
       "    </tr>\n",
       "  </thead>\n",
       "  <tbody>\n",
       "    <tr>\n",
       "      <th>0</th>\n",
       "      <td>-0.112522</td>\n",
       "      <td>-2.827204</td>\n",
       "      <td>-3.773897</td>\n",
       "      <td>-4.349751</td>\n",
       "      <td>-4.376041</td>\n",
       "      <td>-3.474986</td>\n",
       "      <td>-2.181408</td>\n",
       "      <td>-1.818286</td>\n",
       "      <td>-1.250522</td>\n",
       "      <td>-0.477492</td>\n",
       "      <td>...</td>\n",
       "      <td>0.792168</td>\n",
       "      <td>0.933541</td>\n",
       "      <td>0.796958</td>\n",
       "      <td>0.578621</td>\n",
       "      <td>0.257740</td>\n",
       "      <td>0.228077</td>\n",
       "      <td>0.123431</td>\n",
       "      <td>0.925286</td>\n",
       "      <td>0.193137</td>\n",
       "      <td>1</td>\n",
       "    </tr>\n",
       "    <tr>\n",
       "      <th>1</th>\n",
       "      <td>-1.100878</td>\n",
       "      <td>-3.996840</td>\n",
       "      <td>-4.285843</td>\n",
       "      <td>-4.506579</td>\n",
       "      <td>-4.022377</td>\n",
       "      <td>-3.234368</td>\n",
       "      <td>-1.566126</td>\n",
       "      <td>-0.992258</td>\n",
       "      <td>-0.754680</td>\n",
       "      <td>0.042321</td>\n",
       "      <td>...</td>\n",
       "      <td>0.538356</td>\n",
       "      <td>0.656881</td>\n",
       "      <td>0.787490</td>\n",
       "      <td>0.724046</td>\n",
       "      <td>0.555784</td>\n",
       "      <td>0.476333</td>\n",
       "      <td>0.773820</td>\n",
       "      <td>1.119621</td>\n",
       "      <td>-1.436250</td>\n",
       "      <td>1</td>\n",
       "    </tr>\n",
       "    <tr>\n",
       "      <th>2</th>\n",
       "      <td>-0.567088</td>\n",
       "      <td>-2.593450</td>\n",
       "      <td>-3.874230</td>\n",
       "      <td>-4.584095</td>\n",
       "      <td>-4.187449</td>\n",
       "      <td>-3.151462</td>\n",
       "      <td>-1.742940</td>\n",
       "      <td>-1.490659</td>\n",
       "      <td>-1.183580</td>\n",
       "      <td>-0.394229</td>\n",
       "      <td>...</td>\n",
       "      <td>0.886073</td>\n",
       "      <td>0.531452</td>\n",
       "      <td>0.311377</td>\n",
       "      <td>-0.021919</td>\n",
       "      <td>-0.713683</td>\n",
       "      <td>-0.532197</td>\n",
       "      <td>0.321097</td>\n",
       "      <td>0.904227</td>\n",
       "      <td>-0.421797</td>\n",
       "      <td>1</td>\n",
       "    </tr>\n",
       "    <tr>\n",
       "      <th>3</th>\n",
       "      <td>0.490473</td>\n",
       "      <td>-1.914407</td>\n",
       "      <td>-3.616364</td>\n",
       "      <td>-4.318823</td>\n",
       "      <td>-4.268016</td>\n",
       "      <td>-3.881110</td>\n",
       "      <td>-2.993280</td>\n",
       "      <td>-1.671131</td>\n",
       "      <td>-1.333884</td>\n",
       "      <td>-0.965629</td>\n",
       "      <td>...</td>\n",
       "      <td>0.350816</td>\n",
       "      <td>0.499111</td>\n",
       "      <td>0.600345</td>\n",
       "      <td>0.842069</td>\n",
       "      <td>0.952074</td>\n",
       "      <td>0.990133</td>\n",
       "      <td>1.086798</td>\n",
       "      <td>1.403011</td>\n",
       "      <td>-0.383564</td>\n",
       "      <td>1</td>\n",
       "    </tr>\n",
       "    <tr>\n",
       "      <th>4</th>\n",
       "      <td>0.800232</td>\n",
       "      <td>-0.874252</td>\n",
       "      <td>-2.384761</td>\n",
       "      <td>-3.973292</td>\n",
       "      <td>-4.338224</td>\n",
       "      <td>-3.802422</td>\n",
       "      <td>-2.534510</td>\n",
       "      <td>-1.783423</td>\n",
       "      <td>-1.594450</td>\n",
       "      <td>-0.753199</td>\n",
       "      <td>...</td>\n",
       "      <td>1.148884</td>\n",
       "      <td>0.958434</td>\n",
       "      <td>1.059025</td>\n",
       "      <td>1.371682</td>\n",
       "      <td>1.277392</td>\n",
       "      <td>0.960304</td>\n",
       "      <td>0.971020</td>\n",
       "      <td>1.614392</td>\n",
       "      <td>1.421456</td>\n",
       "      <td>1</td>\n",
       "    </tr>\n",
       "  </tbody>\n",
       "</table>\n",
       "<p>5 rows × 141 columns</p>\n",
       "</div>"
      ],
      "text/plain": [
       "        0         1         2         3         4         5         6    \\\n",
       "0 -0.112522 -2.827204 -3.773897 -4.349751 -4.376041 -3.474986 -2.181408   \n",
       "1 -1.100878 -3.996840 -4.285843 -4.506579 -4.022377 -3.234368 -1.566126   \n",
       "2 -0.567088 -2.593450 -3.874230 -4.584095 -4.187449 -3.151462 -1.742940   \n",
       "3  0.490473 -1.914407 -3.616364 -4.318823 -4.268016 -3.881110 -2.993280   \n",
       "4  0.800232 -0.874252 -2.384761 -3.973292 -4.338224 -3.802422 -2.534510   \n",
       "\n",
       "        7         8         9    ...       131       132       133       134  \\\n",
       "0 -1.818286 -1.250522 -0.477492  ...  0.792168  0.933541  0.796958  0.578621   \n",
       "1 -0.992258 -0.754680  0.042321  ...  0.538356  0.656881  0.787490  0.724046   \n",
       "2 -1.490659 -1.183580 -0.394229  ...  0.886073  0.531452  0.311377 -0.021919   \n",
       "3 -1.671131 -1.333884 -0.965629  ...  0.350816  0.499111  0.600345  0.842069   \n",
       "4 -1.783423 -1.594450 -0.753199  ...  1.148884  0.958434  1.059025  1.371682   \n",
       "\n",
       "        135       136       137       138       139  140  \n",
       "0  0.257740  0.228077  0.123431  0.925286  0.193137    1  \n",
       "1  0.555784  0.476333  0.773820  1.119621 -1.436250    1  \n",
       "2 -0.713683 -0.532197  0.321097  0.904227 -0.421797    1  \n",
       "3  0.952074  0.990133  1.086798  1.403011 -0.383564    1  \n",
       "4  1.277392  0.960304  0.971020  1.614392  1.421456    1  \n",
       "\n",
       "[5 rows x 141 columns]"
      ]
     },
     "execution_count": 2,
     "metadata": {},
     "output_type": "execute_result"
    }
   ],
   "source": [
    "data = pd.read_csv('ecg_autoencoder_dataset.csv',header=None)\n",
    "data.head()"
   ]
  },
  {
   "cell_type": "code",
   "execution_count": 6,
   "metadata": {},
   "outputs": [],
   "source": [
    "feature = data.drop(140,axis=1)\n",
    "target = data[140]\n",
    "X_train,X_test,Y_train,Y_test = train_test_split(feature,target,test_size=0.2,stratify=target)\n",
    "train_index = Y_train[Y_train==1].index\n",
    "train_data = X_train.loc[train_index]"
   ]
  },
  {
   "cell_type": "code",
   "execution_count": 9,
   "metadata": {},
   "outputs": [],
   "source": [
    "min_max_scaler = MinMaxScaler(feature_range=(0,1))\n",
    "x_train_scaled = min_max_scaler.fit_transform(train_data)\n",
    "x_test_scaled = min_max_scaler.transform(X_test)"
   ]
  },
  {
   "cell_type": "code",
   "execution_count": 29,
   "metadata": {},
   "outputs": [],
   "source": [
    "class AutoEncoder(tf.keras.Model):\n",
    "    def __init__(self,output_units,ldim=8):\n",
    "        super().__init__()\n",
    "        self.encoder = Sequential([\n",
    "            Dense(16,activation='relu'),\n",
    "            Dropout(0.1),\n",
    "            Dense(32,activation='relu'),\n",
    "            Dropout(0.1),\n",
    "            Dense(64,activation='relu'),\n",
    "            Dropout(0.1),\n",
    "            Dense(ldim,activation='relu')\n",
    "        ])\n",
    "        self.decoder = Sequential([\n",
    "            Dense(64,activation='relu'),\n",
    "            Dropout(0.1),\n",
    "            Dense(32,activation='relu'),\n",
    "            Dropout(0.1),\n",
    "            Dense(16,activation='relu'),\n",
    "            Dropout(0.1),\n",
    "            Dense(output_units,activation='sigmoid')\n",
    "        ])\n",
    "    \n",
    "    def call(self,input) :\n",
    "        encoded = self.encoder(input)\n",
    "        decoded = self.decoder(encoded)\n",
    "        return decoded\n"
   ]
  },
  {
   "cell_type": "code",
   "execution_count": 33,
   "metadata": {},
   "outputs": [
    {
     "name": "stdout",
     "output_type": "stream",
     "text": [
      "Epoch 1/20\n",
      "5/5 [==============================] - 2s 71ms/step - loss: 0.0111 - mse: 0.0247 - val_loss: 0.0132 - val_mse: 0.0306\n",
      "Epoch 2/20\n",
      "5/5 [==============================] - 0s 20ms/step - loss: 0.0109 - mse: 0.0243 - val_loss: 0.0131 - val_mse: 0.0303\n",
      "Epoch 3/20\n",
      "5/5 [==============================] - 0s 21ms/step - loss: 0.0107 - mse: 0.0239 - val_loss: 0.0129 - val_mse: 0.0299\n",
      "Epoch 4/20\n",
      "5/5 [==============================] - 0s 19ms/step - loss: 0.0104 - mse: 0.0232 - val_loss: 0.0127 - val_mse: 0.0296\n",
      "Epoch 5/20\n",
      "5/5 [==============================] - 0s 19ms/step - loss: 0.0100 - mse: 0.0224 - val_loss: 0.0126 - val_mse: 0.0293\n",
      "Epoch 6/20\n",
      "5/5 [==============================] - 0s 21ms/step - loss: 0.0096 - mse: 0.0214 - val_loss: 0.0124 - val_mse: 0.0288\n",
      "Epoch 7/20\n",
      "5/5 [==============================] - 0s 21ms/step - loss: 0.0091 - mse: 0.0202 - val_loss: 0.0121 - val_mse: 0.0281\n",
      "Epoch 8/20\n",
      "5/5 [==============================] - 0s 20ms/step - loss: 0.0085 - mse: 0.0189 - val_loss: 0.0117 - val_mse: 0.0273\n",
      "Epoch 9/20\n",
      "5/5 [==============================] - 0s 21ms/step - loss: 0.0079 - mse: 0.0176 - val_loss: 0.0114 - val_mse: 0.0264\n",
      "Epoch 10/20\n",
      "5/5 [==============================] - 0s 21ms/step - loss: 0.0073 - mse: 0.0163 - val_loss: 0.0110 - val_mse: 0.0255\n",
      "Epoch 11/20\n",
      "5/5 [==============================] - 0s 23ms/step - loss: 0.0068 - mse: 0.0151 - val_loss: 0.0106 - val_mse: 0.0246\n",
      "Epoch 12/20\n",
      "5/5 [==============================] - 0s 21ms/step - loss: 0.0064 - mse: 0.0141 - val_loss: 0.0103 - val_mse: 0.0239\n",
      "Epoch 13/20\n",
      "5/5 [==============================] - 0s 21ms/step - loss: 0.0059 - mse: 0.0132 - val_loss: 0.0100 - val_mse: 0.0234\n",
      "Epoch 14/20\n",
      "5/5 [==============================] - 0s 21ms/step - loss: 0.0056 - mse: 0.0125 - val_loss: 0.0099 - val_mse: 0.0231\n",
      "Epoch 15/20\n",
      "5/5 [==============================] - 0s 37ms/step - loss: 0.0054 - mse: 0.0120 - val_loss: 0.0098 - val_mse: 0.0228\n",
      "Epoch 16/20\n",
      "5/5 [==============================] - 0s 21ms/step - loss: 0.0052 - mse: 0.0115 - val_loss: 0.0096 - val_mse: 0.0224\n",
      "Epoch 17/20\n",
      "5/5 [==============================] - 0s 19ms/step - loss: 0.0051 - mse: 0.0112 - val_loss: 0.0095 - val_mse: 0.0222\n",
      "Epoch 18/20\n",
      "5/5 [==============================] - 0s 20ms/step - loss: 0.0050 - mse: 0.0110 - val_loss: 0.0095 - val_mse: 0.0221\n",
      "Epoch 19/20\n",
      "5/5 [==============================] - 0s 21ms/step - loss: 0.0049 - mse: 0.0108 - val_loss: 0.0094 - val_mse: 0.0220\n",
      "Epoch 20/20\n",
      "5/5 [==============================] - 0s 21ms/step - loss: 0.0048 - mse: 0.0107 - val_loss: 0.0094 - val_mse: 0.0220\n"
     ]
    }
   ],
   "source": [
    "model = AutoEncoder(output_units=x_train_scaled.shape[1])\n",
    "model.compile(loss='msle',optimizer='adam',metrics=['mse'])\n",
    "epochs = 20\n",
    "h = model.fit(x_train_scaled,x_train_scaled,validation_data=(x_test_scaled,x_test_scaled),epochs=20,batch_size=512)"
   ]
  },
  {
   "cell_type": "code",
   "execution_count": 34,
   "metadata": {},
   "outputs": [
    {
     "data": {
      "image/png": "[encoded data removed]",
      "text/plain": [
       "<Figure size 640x480 with 1 Axes>"
      ]
     },
     "metadata": {},
     "output_type": "display_data"
    }
   ],
   "source": [
    "plt.plot(h.history['loss'])\n",
    "plt.plot(h.history['val_loss'])\n",
    "plt.xlabel('Epochs')\n",
    "plt.ylabel('MSLE Loss')\n",
    "plt.legend(['loss', 'val_loss'])\n",
    "plt.show()"
   ]
  },
  {
   "cell_type": "code",
   "execution_count": 37,
   "metadata": {},
   "outputs": [
    {
     "name": "stdout",
     "output_type": "stream",
     "text": [
      "73/73 [==============================] - 0s 2ms/step\n",
      "0.0099774188164511\n"
     ]
    }
   ],
   "source": [
    "def find_threshold(model,x_train_scaled):\n",
    "    rec = model.predict(x_train_scaled)\n",
    "    rec_error = tf.keras.losses.msle(rec,x_train_scaled)\n",
    "    threshold = np.mean(rec_error.numpy()) + np.std(rec_error.numpy())\n",
    "    return threshold\n",
    "\n",
    "def get_predictions(model,x_test_scaled,threshold):\n",
    "    predictions = model.predict(x_test_scaled)\n",
    "    pred_error = tf.keras.losses.msle(predictions,x_test_scaled)\n",
    "    anomaly_mask = pd.Series(pred_error) > threshold\n",
    "    pred = anomaly_mask.map(lambda x:0.0 if x==True else 1.0)\n",
    "    return pred\n",
    "\n",
    "\n",
    "threshold = find_threshold(model,x_train_scaled)\n",
    "print(threshold)"
   ]
  },
  {
   "cell_type": "code",
   "execution_count": 39,
   "metadata": {},
   "outputs": [
    {
     "name": "stdout",
     "output_type": "stream",
     "text": [
      "32/32 [==============================] - 0s 2ms/step\n"
     ]
    },
    {
     "data": {
      "text/plain": [
       "0.95"
      ]
     },
     "execution_count": 39,
     "metadata": {},
     "output_type": "execute_result"
    }
   ],
   "source": [
    "res = get_predictions(model,x_test_scaled,threshold)\n",
    "accuracy_score(res,Y_test)"
   ]
  }
 ],
 "metadata": {
  "kernelspec": {
   "display_name": "Python 3",
   "language": "python",
   "name": "python3"
  },
  "language_info": {
   "codemirror_mode": {
    "name": "ipython",
    "version": 3
   },
   "file_extension": ".py",
   "mimetype": "text/x-python",
   "name": "python",
   "nbconvert_exporter": "python",
   "pygments_lexer": "ipython3",
   "version": "3.10.5"
  }
 },
 "nbformat": 4,
 "nbformat_minor": 2
}
